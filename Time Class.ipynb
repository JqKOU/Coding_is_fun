{
 "cells": [
  {
   "cell_type": "markdown",
   "metadata": {},
   "source": [
    "#### Time tester"
   ]
  },
  {
   "cell_type": "markdown",
   "metadata": {},
   "source": [
    "Define a Time class which works like a clock. "
   ]
  },
  {
   "cell_type": "code",
   "execution_count": 13,
   "metadata": {},
   "outputs": [],
   "source": [
    "class Time(object):\n",
    "    def __init__(self, hour, minute, second, ampm):\n",
    "        self._hour = hour\n",
    "        self._minute = minute\n",
    "        self._second = second\n",
    "        self._ampm = ampm  # midnight will be AM!!; ampm = 'AM' or 'PM'\n",
    "\n",
    "    #what's the next time after one second    \n",
    "    def next(self):\n",
    "        if self._hour == 11 and self._minute == 59 and self._second == 59:\n",
    "            if self._ampm == 'AM':\n",
    "                next_time = Time(12,0,0,'PM')\n",
    "            else:\n",
    "                next_time = Time(12,0,0,'AM')\n",
    "        elif self._hour == 12 and self._minute == 59 and self._second == 59:\n",
    "            next_time = Time(1,0,0,self._ampm)\n",
    "        elif self._second == 59:\n",
    "            if self._minute == 59:\n",
    "                next_time = Time(self._hour+1,0,0,self._ampm)\n",
    "            else:\n",
    "                next_time = Time(self._hour,self._minute+1,0,self._ampm)\n",
    "        else:\n",
    "            next_time = Time(self._hour, self._minute, self._second+1, self._ampm)\n",
    "        return next_time\n",
    "    \n",
    "    #what's the previous time\n",
    "    def previous(self):\n",
    "        if self._hour == 12 and self._minute == 0 and self._second == 0:\n",
    "            if self._ampm == 'AM':\n",
    "                previous_time = Time(11,59,59,\"PM\")\n",
    "            else:\n",
    "                previous_time = Time(11,59,59,\"AM\")\n",
    "        elif self._hour == 1 and self._minute == 0 and self._second == 0:\n",
    "            previous_time = Time(12,59,59,self._ampm)\n",
    "        elif self_second == 0:\n",
    "            if self_minute == 0:\n",
    "                previous_time = Time(self._hour-1, 59, 59,self._ampm)\n",
    "            else:\n",
    "                previous_time = Time(self._hour, self._minute-1,59,self._ampm)\n",
    "        else:\n",
    "            previous_time = Time(self._hour, self._minute,self._second-1,self._ampm)\n",
    "        return previous_time\n",
    "                           \n",
    "    #what's the time after n seconds\n",
    "    def add(self,nseconds):\n",
    "        t = Time(self._hour,self._minute,self._second,self._ampm)\n",
    "        for i in range(nseconds):\n",
    "            t = t.next()  \n",
    "        return t\n",
    "    \n",
    "    #what's the next time before n seconds\n",
    "    def sub(self,nseconds):\n",
    "        t = Time(self._hour,self._minute,self._second,self._ampm)\n",
    "        for i in range(nseconds):\n",
    "            t = t.previous()  \n",
    "        return t       \n",
    "        \n",
    "    #what's the total seconds from midnight\n",
    "    def seconds_from_midnight(self):\n",
    "        if self._ampm == \"AM\":\n",
    "            if self._hour == 12:\n",
    "                seconds = self._minute*60 + self._second\n",
    "            else:\n",
    "                seconds = self._hour*60*60 + self._minute*60 + self._second\n",
    "        elif self._hour == 12:\n",
    "            seconds = self._hour*60*60 + self._minute*60 + self._second\n",
    "        else: \n",
    "            seconds = (self._hour+12)*60*60 + self._minute*60 + self._second\n",
    "        return seconds\n",
    "\n",
    "    # is the time after t\n",
    "    def after(self,t):\n",
    "        return self.seconds_from_midnight() > t.seconds_from_midnight()\n",
    "\n",
    "    #is the time euqls t\n",
    "    def equals(self,t):\n",
    "        return ((self._second == t._second) and\n",
    "                (self._minute == t._minute) and\n",
    "                (self._hour == t._hour) and\n",
    "                (self._ampm == t._ampm))\n",
    "\n",
    "    #is the time before t\n",
    "    def before(self,t):\n",
    "        return self.seconds_from_midnight() < t.seconds_from_midnight()\n",
    "\n",
    "    #what's the seconds between two times\n",
    "    def seconds_between(self,t):\n",
    "        return t.seconds_from_midnight() - self.seconds_from_midnight()\n",
    "        \n",
    "\n",
    "    def __str__(self):\n",
    "        def two_spaces(n):\n",
    "            if n<10:\n",
    "                return '0'+str(n)\n",
    "            else:\n",
    "                return str(n)\n",
    "        return two_spaces(self._hour)+\":\"+two_spaces(self._minute)+\":\"+ \\\n",
    "               two_spaces(self._second)+\" \"+self._ampm"
   ]
  },
  {
   "cell_type": "markdown",
   "metadata": {},
   "source": [
    "The following is the main program to test the above Time class"
   ]
  },
  {
   "cell_type": "code",
   "execution_count": 14,
   "metadata": {},
   "outputs": [
    {
     "name": "stdout",
     "output_type": "stream",
     "text": [
      "Please give me a valid time.\n"
     ]
    },
    {
     "name": "stdin",
     "output_type": "stream",
     "text": [
      "Enter hour (1-12):  12\n",
      "Enter minute (0-59)  :  0\n",
      "Enter second (0-59)   :  0\n",
      "Enter AM or PM :  PM\n"
     ]
    },
    {
     "name": "stdout",
     "output_type": "stream",
     "text": [
      "PM\n",
      "\n",
      "The time you entered is 12:00:00 PM\n",
      "\n",
      "          Welcome to Time Tester\n",
      "\n",
      "(a) Add seconds to the time. \n",
      "(s) Subtract seconds from time. \n",
      "(p) Previous Second. \n",
      "(n) Next Second. \n",
      "(b) Interval between. \n",
      "(c) Compare Times to see if one is before another. \n",
      "(q) Quit. \n",
      "\n"
     ]
    },
    {
     "name": "stdin",
     "output_type": "stream",
     "text": [
      "Enter your option:  c\n"
     ]
    },
    {
     "name": "stdout",
     "output_type": "stream",
     "text": [
      "Please give me another valid time.\n"
     ]
    },
    {
     "name": "stdin",
     "output_type": "stream",
     "text": [
      "Enter hour (1-12):  1\n",
      "Enter minute (0-59)  :  0\n",
      "Enter second (0-59)   :  0\n",
      "Enter AM or PM :  AM\n"
     ]
    },
    {
     "name": "stdout",
     "output_type": "stream",
     "text": [
      "\n",
      "12:00:00 PM is after 01:00:00 AM\n",
      "\n",
      "          Welcome to Time Tester\n",
      "\n",
      "(a) Add seconds to the time. \n",
      "(s) Subtract seconds from time. \n",
      "(p) Previous Second. \n",
      "(n) Next Second. \n",
      "(b) Interval between. \n",
      "(c) Compare Times to see if one is before another. \n",
      "(q) Quit. \n",
      "\n"
     ]
    },
    {
     "name": "stdin",
     "output_type": "stream",
     "text": [
      "Enter your option:  c\n"
     ]
    },
    {
     "name": "stdout",
     "output_type": "stream",
     "text": [
      "Please give me another valid time.\n"
     ]
    },
    {
     "name": "stdin",
     "output_type": "stream",
     "text": [
      "Enter hour (1-12):  11\n",
      "Enter minute (0-59)  :  0\n",
      "Enter second (0-59)   :  0\n",
      "Enter AM or PM :  PM\n"
     ]
    },
    {
     "name": "stdout",
     "output_type": "stream",
     "text": [
      "\n",
      "12:00:00 PM is before 11:00:00 PM\n",
      "\n",
      "          Welcome to Time Tester\n",
      "\n",
      "(a) Add seconds to the time. \n",
      "(s) Subtract seconds from time. \n",
      "(p) Previous Second. \n",
      "(n) Next Second. \n",
      "(b) Interval between. \n",
      "(c) Compare Times to see if one is before another. \n",
      "(q) Quit. \n",
      "\n"
     ]
    },
    {
     "name": "stdin",
     "output_type": "stream",
     "text": [
      "Enter your option:  s\n",
      "Enter number of days to subtract from the date:  1\n"
     ]
    },
    {
     "name": "stdout",
     "output_type": "stream",
     "text": [
      "\n",
      "The time obtained after subtracting 1 seconds from 12:00:00 PM is 11:59:59 AM\n",
      "\n",
      "          Welcome to Time Tester\n",
      "\n",
      "(a) Add seconds to the time. \n",
      "(s) Subtract seconds from time. \n",
      "(p) Previous Second. \n",
      "(n) Next Second. \n",
      "(b) Interval between. \n",
      "(c) Compare Times to see if one is before another. \n",
      "(q) Quit. \n",
      "\n"
     ]
    },
    {
     "name": "stdin",
     "output_type": "stream",
     "text": [
      "Enter your option:  q\n"
     ]
    }
   ],
   "source": [
    "def main():\n",
    "    print(\"Please give me a valid time.\")\n",
    "    h = int(input(\"Enter hour (1-12): \"))\n",
    "    m = int(input(\"Enter minute (0-59)  : \"))\n",
    "    s = int(input(\"Enter second (0-59)   : \"))\n",
    "    a = input(\"Enter AM or PM : \")\n",
    "    print(a)\n",
    "    time = Time(h,m,s,a)\n",
    "    print(\"\\nThe time you entered is \" + str(time))\n",
    "\n",
    "    while True:\n",
    "        menu()\n",
    "        option = input(\"Enter your option: \").lower()\n",
    "        if option == \"a\":\n",
    "            n = int(input(\"Enter number of seconds to add to the time: \"))\n",
    "            print(\"\\nThe time obtained after adding \" + str(n) + \" seconds to \" + str(time) + \" is \" + str(time.add(n)))\n",
    "        elif option == \"s\":\n",
    "            n = int(input(\"Enter number of seconds to subtract from the time: \"))\n",
    "            print(\"\\nThe time obtained after subtracting \" + str(n) + \" seconds from \" + str(time) + \" is \" + str(time.sub(n)))\n",
    "        elif option == \"p\":\n",
    "            print(\"\\nThe time 1 second previous to \" + str(time) + \" is \" + str(time.previous()))\n",
    "        elif option == \"n\":\n",
    "            print(\"\\nThe time 1 second after \" + str(time) + \" is \" + str(time.next()))\n",
    "        elif option == \"b\":\n",
    "            print(\"Please give me another valid time.\")\n",
    "            h = int(input(\"Enter hour (1-12): \"))\n",
    "            m = int(input(\"Enter minute (0-59)  : \"))\n",
    "            s = int(input(\"Enter second (0-59)   : \"))\n",
    "            a = input(\"Enter AM or PM : \")\n",
    "            time2 = Time(h,m,s,a)\n",
    "            interval = time.seconds_between(time2)\n",
    "            print(\"\\nThe interval between \" + str(time) + \" and \" + str(time2) + \\\n",
    "                \" is \" + str(interval//60) + \" minutes and \"+ str(interval%60) + \" seconds\")\n",
    "        elif option == \"c\":\n",
    "            print(\"Please give me another valid time.\")\n",
    "            h = int(input(\"Enter hour (1-12): \"))\n",
    "            m = int(input(\"Enter minute (0-59)  : \"))\n",
    "            s = int(input(\"Enter second (0-59)   : \"))\n",
    "            a = input(\"Enter AM or PM : \")\n",
    "            time2 = Time(h,m,s,a)\n",
    "            if time.before(time2):\n",
    "                print(\"\\n\" + str(time) + \" is before \" + str(time2)) \n",
    "            elif time.after(time2):\n",
    "                print(\"\\n\" + str(time) + \" is after \" + str(time2)) \n",
    "            else:\n",
    "                print(\"\\n\" + str(time) + \" is same as \" + str(time2)) \n",
    "        elif option == \"q\":\n",
    "            break\n",
    "        else:\n",
    "            print(\"Invalid Option\")\n",
    "\n",
    "def menu():\n",
    "    print(\"\\n          Welcome to Time Tester\\n\")\n",
    "    print(\"(a) Add seconds to the time. \")\n",
    "    print(\"(s) Subtract seconds from time. \")\n",
    "    print(\"(p) Previous Second. \")\n",
    "    print(\"(n) Next Second. \")\n",
    "    print(\"(b) Interval between. \")\n",
    "    print(\"(c) Compare Times to see if one is before another. \")\n",
    "    print(\"(q) Quit. \")\n",
    "    print()\n",
    "\n",
    "main()"
   ]
  },
  {
   "cell_type": "markdown",
   "metadata": {},
   "source": [
    "Have Fun! 😘"
   ]
  }
 ],
 "metadata": {
  "kernelspec": {
   "display_name": "Python 3",
   "language": "python",
   "name": "python3"
  },
  "language_info": {
   "codemirror_mode": {
    "name": "ipython",
    "version": 3
   },
   "file_extension": ".py",
   "mimetype": "text/x-python",
   "name": "python",
   "nbconvert_exporter": "python",
   "pygments_lexer": "ipython3",
   "version": "3.7.6"
  }
 },
 "nbformat": 4,
 "nbformat_minor": 4
}
