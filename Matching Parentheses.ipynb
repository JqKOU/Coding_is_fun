{
 "cells": [
  {
   "cell_type": "markdown",
   "metadata": {},
   "source": [
    "#### Matching Parentheses using stack"
   ]
  },
  {
   "cell_type": "markdown",
   "metadata": {},
   "source": [
    "This notebook introduced a method which implements paratheses matching using Stack given an expression string expression."
   ]
  },
  {
   "cell_type": "markdown",
   "metadata": {},
   "source": [
    "Stack means arranging objects on over another. In data structure, it follows first in last out (FILO) manner. The insert and delete operations are often called push and pop."
   ]
  },
  {
   "cell_type": "code",
   "execution_count": 1,
   "metadata": {},
   "outputs": [],
   "source": [
    "class Stack:\n",
    "    # Python list implementation of stacks\n",
    "\n",
    "    def __init__(self):\n",
    "        # construct an empty stack\n",
    "        self._data = []\n",
    "    \n",
    "    #return str(self._data)\n",
    "    def __str__(self):\n",
    "        # string representation of stack\n",
    "        string = \"\"\n",
    "        for i in range(len(self._data)):\n",
    "            data = str(self._data[i])\n",
    "            string += data + \" \"\n",
    "        return \"TOP:\" + string + \":BOTTOM\"\n",
    "        \n",
    "    def __len__(self):\n",
    "        # returns number of items in stack\n",
    "        return len(self._data)\n",
    "\n",
    "    def is_empty(self):\n",
    "        # returns True if stack is empty and False otherwise\n",
    "        return len(self._data) == 0\n",
    "\n",
    "    def top(self):\n",
    "        # returns top item of stack it stack is not empty; otherwise returns None\n",
    "        if len(self._data) != 0:\n",
    "            return self._data[0]\n",
    "        else:\n",
    "            return None\n",
    "\n",
    "    def pop(self):\n",
    "        # similar to top, except this also deletes top item from stack.\n",
    "        if len(self._data) != 0:\n",
    "            return self._data.pop(0)\n",
    "        else:\n",
    "            return None\n",
    "\n",
    "    def push(self,e):\n",
    "        # puts new item e on top of stack\n",
    "        self._data.insert(0,e)\n",
    "    "
   ]
  },
  {
   "cell_type": "markdown",
   "metadata": {},
   "source": [
    "The following function takes \"input a string\" as expr and returns True is expr has maching parentheses and False otherwise"
   ]
  },
  {
   "cell_type": "code",
   "execution_count": 2,
   "metadata": {},
   "outputs": [],
   "source": [
    "def is_matched(expr): \n",
    "    # Takes as input a string called expr and returns True if \n",
    "    # expr has matching parentheses and False otherwise\n",
    "    left = [\"{\", \"[\", \"(\"]\n",
    "    right = [\"}\", \"]\", \")\"]\n",
    "    \n",
    "    stack = Stack()\n",
    "    for i in expr:\n",
    "        if i in left:\n",
    "            stack.push(i)\n",
    "        elif i in right:\n",
    "            if stack.is_empty():\n",
    "                return str(False) \n",
    "            else: \n",
    "                stack.pop()\n",
    "    if len(stack) == 0: \n",
    "        return str(True)\n",
    "    else: \n",
    "        return str(False)  "
   ]
  },
  {
   "cell_type": "code",
   "execution_count": 3,
   "metadata": {},
   "outputs": [
    {
     "name": "stdin",
     "output_type": "stream",
     "text": [
      "input a string (q to quit):  ((\n"
     ]
    },
    {
     "name": "stdout",
     "output_type": "stream",
     "text": [
      "parentheses matching: False\n"
     ]
    },
    {
     "name": "stdin",
     "output_type": "stream",
     "text": [
      "input a string (q to quit):  ()\n"
     ]
    },
    {
     "name": "stdout",
     "output_type": "stream",
     "text": [
      "parentheses matching: True\n"
     ]
    },
    {
     "name": "stdin",
     "output_type": "stream",
     "text": [
      "input a string (q to quit):  ()(\n"
     ]
    },
    {
     "name": "stdout",
     "output_type": "stream",
     "text": [
      "parentheses matching: False\n"
     ]
    },
    {
     "name": "stdin",
     "output_type": "stream",
     "text": [
      "input a string (q to quit):  )(\n"
     ]
    },
    {
     "name": "stdout",
     "output_type": "stream",
     "text": [
      "parentheses matching: False\n"
     ]
    },
    {
     "name": "stdin",
     "output_type": "stream",
     "text": [
      "input a string (q to quit):  q\n"
     ]
    }
   ],
   "source": [
    "def main():\n",
    "    while True:\n",
    "        s = input(\"input a string (q to quit): \")\n",
    "        if s == \"q\":\n",
    "            break\n",
    "        else:\n",
    "            print(\"parentheses matching: \" + is_matched(s))\n",
    "main()"
   ]
  },
  {
   "cell_type": "markdown",
   "metadata": {},
   "source": [
    "Have Fun!  :) "
   ]
  }
 ],
 "metadata": {
  "kernelspec": {
   "display_name": "Python 3",
   "language": "python",
   "name": "python3"
  },
  "language_info": {
   "codemirror_mode": {
    "name": "ipython",
    "version": 3
   },
   "file_extension": ".py",
   "mimetype": "text/x-python",
   "name": "python",
   "nbconvert_exporter": "python",
   "pygments_lexer": "ipython3",
   "version": "3.7.6"
  }
 },
 "nbformat": 4,
 "nbformat_minor": 4
}
