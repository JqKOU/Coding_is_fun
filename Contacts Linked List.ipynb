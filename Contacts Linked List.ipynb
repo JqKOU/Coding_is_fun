{
 "cells": [
  {
   "cell_type": "markdown",
   "metadata": {},
   "source": [
    "### linked list"
   ]
  },
  {
   "cell_type": "markdown",
   "metadata": {},
   "source": [
    "A linked list is a linear collection of data elements whose order is not given by their physical placement in memory. Instead, each element points to the next. It is a data structure consisting of a collection of nodes which together represent a sequence. In its most basic form, each node contains: data, and a reference (in other words, a link) to the next node in the sequence. This structure allows for efficient insertion or removal of elements from any position in the sequence during iteration. (Wikipedia)\n",
    "\n",
    "The dataset contacts.dat has following contents:\n",
    "\n",
    "Sally,555-1215,123 Cherry Street \n",
    "\n",
    "James,555-1214,123 Elm Street \n",
    "\n",
    "John,555-1213,123 Oak Street \n",
    "\n",
    "Raj,555-1212,123 Main Street\n",
    "\n",
    "This notebook provides a method to create a contacts linked list class which contains find, insert, update and delete function. "
   ]
  },
  {
   "cell_type": "code",
   "execution_count": 1,
   "metadata": {},
   "outputs": [],
   "source": [
    "class Node:\n",
    "\n",
    "    def __init__(self, name, phone, address, next):\n",
    "        self._name = name\n",
    "        self._phone = phone\n",
    "        self._address = address\n",
    "        self._next = next\n",
    "\n",
    "    def __str__(self):\n",
    "        return \"(\"+self._name+\",\"+self._phone+\",\"+self._address+\")\""
   ]
  },
  {
   "cell_type": "code",
   "execution_count": 2,
   "metadata": {},
   "outputs": [],
   "source": [
    "class ContactsLL:\n",
    "\n",
    "    # singly linked list of contacts with header node, non-circular, unsorted\n",
    "\n",
    "    def __init__(self):\n",
    "        self._head = Node(\"\",\"\",\"\",None)\n",
    "        self._size = 0\n",
    "\n",
    "    def find(self,name):\n",
    "        p = self._head\n",
    "        found = False\n",
    "        while p._next != None and not found:\n",
    "            if p._next._name == name:\n",
    "                found = True\n",
    "            else:\n",
    "                p = p._next\n",
    "        if found:\n",
    "            return p\n",
    "        else:\n",
    "            return None\n",
    "            \n",
    "\n",
    "    def insert(self,contact):\n",
    "        if self.find(contact[0]) != None:\n",
    "            return None\n",
    "        else: # insert in first position because we have UNSORTED\n",
    "            p = Node(contact[0],contact[1],contact[2],self._head._next)\n",
    "            self._head._next = p\n",
    "            self._size = self._size + 1\n",
    "            return True\n",
    "\n",
    "        \n",
    "    def delete(self,name):\n",
    "        # do a find; if found the p will be the pointer to the previous node!\n",
    "        if self.find(name) == None:\n",
    "            return False\n",
    "        else:\n",
    "            p = self._head\n",
    "            found = False\n",
    "            while p._next != None and not found:\n",
    "                if name == p._next._name:\n",
    "                    found = True\n",
    "                else:\n",
    "                    p = p._next\n",
    "            p._next = p._next._next\n",
    "            self._size = self._size - 1\n",
    "            return True\n",
    "\n",
    "    def update(self,contact):\n",
    "        # do a find; if found then update object p \n",
    "        if self.find(contact[0]) == None:\n",
    "            return False\n",
    "        else:\n",
    "            p = self._head\n",
    "            found = False\n",
    "            while p._next != None and not found:\n",
    "                if contact[0] == p._next._name:\n",
    "                    found = True\n",
    "                else:\n",
    "                    p = p._next\n",
    "            p._next = Node(contact[0],contact[1],contact[2],self._head._next)\n",
    "            return True\n",
    "        \n",
    "    def size(self):\n",
    "        return self._size\n",
    "\n",
    "    def __str__(self):\n",
    "        p = self._head\n",
    "        result = \"\\n\"\n",
    "        while p._next != None:\n",
    "            result = result + str(p._next)+\"\\n\"\n",
    "            p = p._next\n",
    "        return result+\"\\n\""
   ]
  },
  {
   "cell_type": "markdown",
   "metadata": {},
   "source": [
    "read contacts.dat file and test ContactsLL class."
   ]
  },
  {
   "cell_type": "code",
   "execution_count": 4,
   "metadata": {},
   "outputs": [
    {
     "name": "stdout",
     "output_type": "stream",
     "text": [
      "\n"
     ]
    },
    {
     "name": "stdin",
     "output_type": "stream",
     "text": [
      "i n:p:a, d n, f n, u n:p:a, p, s, q for quit:  f John\n"
     ]
    },
    {
     "name": "stdout",
     "output_type": "stream",
     "text": [
      "\n",
      " (John,555-1213,123 Oak Street) \n",
      "\n"
     ]
    },
    {
     "name": "stdin",
     "output_type": "stream",
     "text": [
      "i n:p:a, d n, f n, u n:p:a, p, s, q for quit:  u John:123-4567:456 Oak Street\n"
     ]
    },
    {
     "name": "stdout",
     "output_type": "stream",
     "text": [
      "\n",
      " John  UPDATED\n",
      "\n"
     ]
    },
    {
     "name": "stdin",
     "output_type": "stream",
     "text": [
      "i n:p:a, d n, f n, u n:p:a, p, s, q for quit:  f John\n"
     ]
    },
    {
     "name": "stdout",
     "output_type": "stream",
     "text": [
      "\n",
      " (John,123-4567,456 Oak Street) \n",
      "\n"
     ]
    },
    {
     "name": "stdin",
     "output_type": "stream",
     "text": [
      "i n:p:a, d n, f n, u n:p:a, p, s, q for quit:  q\n"
     ]
    }
   ],
   "source": [
    "def load_contacts(fname):\n",
    "    contacts = ContactsLL()\n",
    "    with open(fname) as f:\n",
    "        for line in f.readlines():\n",
    "            line = line.strip(\"\\n\")\n",
    "            c = line.split(\":\") \n",
    "            contacts.insert((c[0],c[1],c[2]))\n",
    "        return contacts\n",
    "\n",
    "def main():\n",
    "    contacts = load_contacts(\"contacts.dat\")\n",
    "    print()\n",
    "    while True:\n",
    "        s = input(\"i n:p:a, d n, f n, u n:p:a, p, s, q for quit: \").strip()\n",
    "        if s[0] == 'i':\n",
    "            contact = s[1:].strip().split(\":\")\n",
    "            if contacts.insert(contact):\n",
    "                print(\"\\n\",contact[0],\" INSERTED\\n\")\n",
    "            else:\n",
    "                print(\"\\n\",contact[0],\" IS ALREADY PRESENT\\n\")\n",
    "        elif s[0] == 'd':\n",
    "            name = s[1:].strip()\n",
    "            if contacts.delete(name):\n",
    "                 print(\"\\n\",name,\" DELETED\\n\")\n",
    "            else:\n",
    "                print(\"\\n\",name,\" NOT FOUND\\n\")\n",
    "        elif s[0] == 'f':\n",
    "            name = s[1:].strip()\n",
    "            c = contacts.find(name)\n",
    "            if c == None:\n",
    "                print(\"\\nNo entry for \"+c) \n",
    "            else:\n",
    "                print(\"\\n\",c._next,\"\\n\")\n",
    "        elif s[0] == 'u':\n",
    "            contact = s[1:].strip().split(\":\")\n",
    "            if contacts.update(contact):\n",
    "                print(\"\\n\",contact[0],\" UPDATED\\n\")\n",
    "            else:\n",
    "                print(\"\\n\",contact[0],\" NOT FOUND\\n\")\n",
    "        elif s[0] == 'p':\n",
    "            print(contacts)\n",
    "        elif s[0] == 's':\n",
    "            print(\"\\nSize = \",contacts.size(),\"\\n\")\n",
    "        elif s[0] == 'q':\n",
    "            break\n",
    "        else:\n",
    "            print(\"Invalid option\")\n",
    "\n",
    "main()"
   ]
  },
  {
   "cell_type": "markdown",
   "metadata": {},
   "source": [
    "Have Fun! 😘"
   ]
  }
 ],
 "metadata": {
  "kernelspec": {
   "display_name": "Python 3",
   "language": "python",
   "name": "python3"
  },
  "language_info": {
   "codemirror_mode": {
    "name": "ipython",
    "version": 3
   },
   "file_extension": ".py",
   "mimetype": "text/x-python",
   "name": "python",
   "nbconvert_exporter": "python",
   "pygments_lexer": "ipython3",
   "version": "3.7.6"
  }
 },
 "nbformat": 4,
 "nbformat_minor": 4
}
