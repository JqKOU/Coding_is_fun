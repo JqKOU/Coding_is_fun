{
 "cells": [
  {
   "cell_type": "markdown",
   "metadata": {},
   "source": [
    "### Crypto"
   ]
  },
  {
   "cell_type": "markdown",
   "metadata": {},
   "source": [
    "In the 2nd World War, passing encrypted messages allowed Allied forces to communicate using the same technology that Axis forces used without the enemy knowing the content of the message. Assume that you are an intelligence officer in the army who was asked to create an encryption and decryption platform to help the army. Your plan is to create the encryption using the following logic:"
   ]
  },
  {
   "cell_type": "markdown",
   "metadata": {},
   "source": [
    "1. Each letter will be encoded using the index order of the alphabet. [A=0, B=1, . . . , Z=25]\n",
    "2. The message will have a timestamp, for example 9:00 (military time 9.00am). Using the hour part of the time stamp each letter should be shifted [A->J, B->K, ..., Z->I].\n",
    "3. Spaces are coded as _"
   ]
  },
  {
   "cell_type": "markdown",
   "metadata": {},
   "source": [
    "Assume all the characters will be in lower case and apart from the time there are no other characters in the message other than a..z.\n",
    "The program should be able to take the user input of a message and decrypt it, also if an ecrypted message was given, it should be able to display the decrypted output."
   ]
  },
  {
   "cell_type": "markdown",
   "metadata": {},
   "source": [
    "#### Following is an example of the encryption algorithm in action:\n",
    "\n",
    "14:00/the ships are in position\n",
    "\n",
    "14:00/7,21,18_6,21,22,3,6_14,5,18_22,1_3,2,6,22,7,22,2,1"
   ]
  },
  {
   "cell_type": "markdown",
   "metadata": {},
   "source": [
    "#### this function returns the encrypted form of s"
   ]
  },
  {
   "cell_type": "code",
   "execution_count": 3,
   "metadata": {},
   "outputs": [],
   "source": [
    "import string\n",
    "def encrypt(s):\n",
    "    shift = int(s[0:2])\n",
    "    time, plaintext = s.split(\"/\")\n",
    "    words = plaintext.split()\n",
    "    letters = 'abcdefghijklmnopqrstuvwxyz'\n",
    "    \n",
    "    results = \"\"\n",
    "    for i in range(len(words)):\n",
    "        word = words[i]\n",
    "        code = []\n",
    "        result = \"\"\n",
    "        for j in range(len(word)):\n",
    "            value = letters.find(word[j])\n",
    "            code = (value + shift)%26\n",
    "            result += str(code) + \",\"\n",
    "        results += result.strip(\",\") + \"_\"\n",
    "    return time + \"/\" + results.strip(\"_\")"
   ]
  },
  {
   "cell_type": "markdown",
   "metadata": {},
   "source": [
    "#### check whether encrypt works"
   ]
  },
  {
   "cell_type": "code",
   "execution_count": 5,
   "metadata": {},
   "outputs": [
    {
     "data": {
      "text/plain": [
       "'14:00/20,5,18,14,7_10,2,5,24'"
      ]
     },
     "execution_count": 5,
     "metadata": {},
     "output_type": "execute_result"
    }
   ],
   "source": [
    "s = \"14:00/great work\"\n",
    "encrypt(s)"
   ]
  },
  {
   "cell_type": "markdown",
   "metadata": {},
   "source": [
    "#### Looks good! the next step is to write the function which returns the decrypted form of s"
   ]
  },
  {
   "cell_type": "code",
   "execution_count": 6,
   "metadata": {},
   "outputs": [],
   "source": [
    "def decrypt(s):\n",
    "  \n",
    "    shift  = int(s[0:2])\n",
    "    time, codetext = s.split(\"/\")\n",
    "    codes = codetext.split(\"_\")\n",
    "    num2letter = dict(enumerate(string.ascii_lowercase, 0))\n",
    "    \n",
    "    results = \"\"\n",
    "    for i in range(len(codes)):\n",
    "        code = codes[i].split(\",\")\n",
    "        result = \"\"\n",
    "        letter = \"\"\n",
    "        for j in range(len(code)):\n",
    "            value = (int(code[j]) - shift)%26\n",
    "            letter = num2letter[value]\n",
    "            result += letter\n",
    "        results += result + \" \"\n",
    "    return time + \"/\" + results.strip(\" \")"
   ]
  },
  {
   "cell_type": "markdown",
   "metadata": {},
   "source": [
    "#### check whether decrypt works"
   ]
  },
  {
   "cell_type": "code",
   "execution_count": 7,
   "metadata": {},
   "outputs": [
    {
     "data": {
      "text/plain": [
       "'14:00/great work'"
      ]
     },
     "execution_count": 7,
     "metadata": {},
     "output_type": "execute_result"
    }
   ],
   "source": [
    "s = \"14:00/20,5,18,14,7_10,2,5,24\"\n",
    "decrypt(s)"
   ]
  },
  {
   "cell_type": "markdown",
   "metadata": {},
   "source": [
    "#### Decrypt also works! Let's write a driver function and put all together:"
   ]
  },
  {
   "cell_type": "code",
   "execution_count": 8,
   "metadata": {},
   "outputs": [
    {
     "name": "stdin",
     "output_type": "stream",
     "text": [
      "\n",
      "Enter e plain-text or d coded-text or q:  e 14:00/the ships are in position\n"
     ]
    },
    {
     "name": "stdout",
     "output_type": "stream",
     "text": [
      "Encrypted text is: 14:00/7,21,18_6,21,22,3,6_14,5,18_22,1_3,2,6,22,7,22,2,1\n"
     ]
    },
    {
     "name": "stdin",
     "output_type": "stream",
     "text": [
      "\n",
      "Enter e plain-text or d coded-text or q:  d 21:30/17,25_21,12,25_12,25,21,24,19_14,9_21,14,14,21,23,5\n"
     ]
    },
    {
     "name": "stdout",
     "output_type": "stream",
     "text": [
      "Decrypted text is: 21:30/we are ready to attack\n"
     ]
    },
    {
     "name": "stdin",
     "output_type": "stream",
     "text": [
      "\n",
      "Enter e plain-text or d coded-text or q:  q\n"
     ]
    }
   ],
   "source": [
    "def main():\n",
    "  #s = \"14:00/the ships are in position\"\n",
    "  #s = \"21:30/17,25_21,12,25_12,25,21,24,19_14,9_21,14,14,21,23,5\"\n",
    "    while True:\n",
    "        s = input(\"\\nEnter e plain-text or d coded-text or q: \")\n",
    "        if s[0] == \"e\":\n",
    "            print(\"Encrypted text is: \"+encrypt(s[2:]))\n",
    "        elif s[0] == \"d\":\n",
    "            print(\"Decrypted text is: \"+decrypt(s[2:])) \n",
    "        elif s[0] == \"q\":\n",
    "            break\n",
    "        else:\n",
    "            print(\"Invalid choice\")\n",
    "main()"
   ]
  },
  {
   "cell_type": "code",
   "execution_count": null,
   "metadata": {},
   "outputs": [],
   "source": []
  }
 ],
 "metadata": {
  "kernelspec": {
   "display_name": "Python 3",
   "language": "python",
   "name": "python3"
  },
  "language_info": {
   "codemirror_mode": {
    "name": "ipython",
    "version": 3
   },
   "file_extension": ".py",
   "mimetype": "text/x-python",
   "name": "python",
   "nbconvert_exporter": "python",
   "pygments_lexer": "ipython3",
   "version": "3.7.6"
  }
 },
 "nbformat": 4,
 "nbformat_minor": 4
}
