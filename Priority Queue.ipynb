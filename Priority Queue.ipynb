{
 "cells": [
  {
   "cell_type": "markdown",
   "metadata": {
    "colab_type": "text",
    "id": "2gYS_VeOwrpk"
   },
   "source": [
    "### Priority Queue Simple Implementations using sorted and unsorted lists"
   ]
  },
  {
   "cell_type": "markdown",
   "metadata": {},
   "source": [
    "A queue is a data structure which follows the principle of FIFO (First-In-First-Out) manner. \n",
    "\n",
    "Priority Queue is an extension of queue with following properties.\n",
    "* Every item has a priority associated with it.\n",
    "* An element with high priority is dequeued before an element with low priority.\n",
    "* If two elements have the same priority, they are served according to their order in the queue.\n",
    "\n",
    "ref (https://www.geeksforgeeks.org/priority-queue-set-1-introduction/)"
   ]
  },
  {
   "cell_type": "markdown",
   "metadata": {},
   "source": [
    "    "
   ]
  },
  {
   "cell_type": "markdown",
   "metadata": {
    "colab_type": "text",
    "id": "0-_SUJp3wxLW"
   },
   "source": [
    "A sample run of the main program is given below:\n",
    "\n",
    "* Testing Sorted Array Implementation of Priority Queue\n",
    "\n",
    "list = [1, 3, 15, 7, 14, 4, 5, 19, 8, 13, 11, 6, 0, 16, 2, 10, 18, 9, 17, 12]\n",
    "\n",
    "sorted list = [0, 1, 2, 3, 4, 5, 6, 7, 8, 9, 10, 11, 12, 13, 14, 15, 16, 17, 18, 19]\n",
    "\n",
    "* Testing Unsorted Array Implementation of Priority Queue\n",
    "\n",
    "list = [8, 12, 14, 10, 18, 15, 16, 17, 1, 9, 19, 5, 13, 4, 0, 6, 7, 3, 2, 11]\n",
    "\n",
    "sorted list =  [0, 1, 2, 3, 4, 5, 6, 7, 8, 9, 10, 11, 12, 13, 14, 15, 16, 17, 18, 19]"
   ]
  },
  {
   "cell_type": "code",
   "execution_count": 1,
   "metadata": {
    "colab": {
     "base_uri": "https://localhost:8080/",
     "height": 170
    },
    "colab_type": "code",
    "id": "2H5rfHdIGw3u",
    "outputId": "7deec78a-c253-4e75-af97-9c91513983ea"
   },
   "outputs": [
    {
     "name": "stdout",
     "output_type": "stream",
     "text": [
      "Testing Sorted Array Implementation of Priority Queue\n",
      "list =  [13, 4, 10, 11, 3, 15, 14, 1, 17, 5, 12, 2, 7, 18, 9, 16, 6, 0, 8, 19]\n",
      "after insert function:  [0, 1, 2, 3, 4, 5, 6, 7, 8, 9, 10, 11, 12, 13, 14, 15, 16, 17, 18, 19]\n",
      "sorted list =  [0, 1, 2, 3, 4, 5, 6, 7, 8, 9, 10, 11, 12, 13, 14, 15, 16, 17, 18, 19]\n",
      "\n",
      "Testing Unsorted Array Implementation of Priority Queue\n",
      "list =  [4, 7, 6, 3, 10, 19, 15, 12, 17, 0, 5, 11, 9, 16, 8, 1, 14, 18, 2, 13]\n",
      "after insert function:  [13, 2, 18, 14, 1, 8, 16, 9, 11, 5, 0, 17, 12, 15, 19, 10, 3, 6, 7, 4]\n",
      "sorted list =  [0, 1, 2, 3, 4, 5, 6, 7, 8, 9, 10, 11, 12, 13, 14, 15, 16, 17, 18, 19]\n"
     ]
    }
   ],
   "source": [
    "class PQSortedArray:\n",
    "    \n",
    "    def __init__(self):\n",
    "        self._data = []\n",
    "        self._size = 0\n",
    "\n",
    "    def __str__(self):\n",
    "        return str(self._data)\n",
    "\n",
    "    def is_empty(self):\n",
    "        return len(self._data) == 0 # self._size == 0 not work\n",
    "    \n",
    "    \n",
    "    #sort array \n",
    "    def insert(self,num):\n",
    "        index = 0\n",
    "\n",
    "        for i in range(len(self._data)):\n",
    "            if num > max (self._data):\n",
    "                index = len(self._data) + 1\n",
    "            \n",
    "            elif self._data[i] > num:\n",
    "                    index = i\n",
    "                    break    \n",
    "        temp = self._data[:index]+[num]+ self._data[index:]\n",
    "        self._data = temp\n",
    "        return self._data\n",
    "       \n",
    "    def delete_min(self):\n",
    "        min = self._data[0]\n",
    "        self._data.pop(0)\n",
    "        return min\n",
    "\n",
    "\n",
    "class PQUnsortedArray:\n",
    "\n",
    "    def __init__(self):\n",
    "        self._data = []\n",
    "        self._size = 0\n",
    "\n",
    "    def __str__(self):\n",
    "        return str(self._data)\n",
    "\n",
    "    def is_empty(self):\n",
    "        return len(self._data) == 0\n",
    "\n",
    "    def insert(self,num):\n",
    "        return self._data.insert(0, num)\n",
    "\n",
    "    def delete_min(self):\n",
    "        index = 0\n",
    "        minValue = min(self._data)\n",
    "        for i in range(len(self._data)):\n",
    "            if self._data[i] == minValue:\n",
    "                index = i\n",
    "                break\n",
    "        self._data.pop(index)\n",
    "        return minValue\n",
    "\n",
    " ## The following is the main program to test the above two implementations\n",
    "import random\n",
    "\n",
    "def test_PQ(twenty,q):\n",
    "    print(\"list = \",twenty)\n",
    "    for x in twenty:\n",
    "        q.insert(x)\n",
    "    print(\"after insert function: \", q)\n",
    "    sorted_twenty = []\n",
    "    while not q.is_empty():\n",
    "        sorted_twenty.append(q.delete_min())\n",
    "    print(\"sorted list = \",sorted_twenty)\n",
    "\n",
    "def main():\n",
    "    print(\"Testing Sorted Array Implementation of Priority Queue\")\n",
    "    q1 = PQSortedArray()\n",
    "    twenty = list(range(0,20))\n",
    "    random.shuffle(twenty)\n",
    "    test_PQ(twenty,q1)\n",
    "    print()\n",
    "    print(\"Testing Unsorted Array Implementation of Priority Queue\")\n",
    "    q2 = PQUnsortedArray()\n",
    "    twenty = list(range(0,20))\n",
    "    random.shuffle(twenty)\n",
    "    test_PQ(twenty,q2)\n",
    "\n",
    "main()"
   ]
  },
  {
   "cell_type": "markdown",
   "metadata": {},
   "source": [
    "Have Fun! 😊"
   ]
  }
 ],
 "metadata": {
  "colab": {
   "collapsed_sections": [],
   "name": "week2day2_PQarray.ipynb",
   "provenance": []
  },
  "kernelspec": {
   "display_name": "Python 3",
   "language": "python",
   "name": "python3"
  },
  "language_info": {
   "codemirror_mode": {
    "name": "ipython",
    "version": 3
   },
   "file_extension": ".py",
   "mimetype": "text/x-python",
   "name": "python",
   "nbconvert_exporter": "python",
   "pygments_lexer": "ipython3",
   "version": "3.7.6"
  }
 },
 "nbformat": 4,
 "nbformat_minor": 4
}
